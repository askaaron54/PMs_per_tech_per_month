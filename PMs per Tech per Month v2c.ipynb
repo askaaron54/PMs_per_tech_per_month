{
 "cells": [
  {
   "cell_type": "code",
   "execution_count": null,
   "metadata": {},
   "outputs": [],
   "source": [
    "import pandas as pd\n",
    "from datetime import datetime as dt\n",
    "from datetime import timedelta\n",
    "import xlsxwriter\n",
    "import numpy as np\n",
    "import pyodbc\n",
    "with open('login.txt') as key:\n",
    "    login=key.read().strip()\n",
    "    \n",
    "cnxn = pyodbc.connect(login)\n",
    "\n",
    "sql_query=\"\"\"\n",
    "select pmnum, lead, person.displayname, pm.description, left(asset.location,3) 'Building', locations.room,\n",
    "laststartdate, lastcompdate, frequency, frequnit, \n",
    "sunday, monday, tuesday, wednesday, thursday, friday, saturday, sunday, pm.vendor\n",
    "\n",
    "from pm\n",
    "full join asset on asset.assetnum = pm.assetnum\n",
    "full join locations on asset.location = locations.location\n",
    "full join person on person.personid = pm.[lead]\n",
    "\n",
    "where pm.siteid='BOSTON'\n",
    "and pm.status = 'ACTIVE'\n",
    "and (lead <> 'SSANKU01' or lead is null)\n",
    "\"\"\"\n",
    "\n",
    "#read the sql query into a df\n",
    "data = pd.read_sql(sql_query,cnxn, parse_dates='Start Date')\n",
    "\n",
    "#clean data - fill null values for unassigned PMs as well as PMs assigned to a vendor\n",
    "#this happens for both lead and displayname columns\n",
    "data.loc[data['lead'].isna(),'lead'] = 'Not Assigned'\n",
    "data.loc[data['lead'] == 'Not Assigned','displayname'] = 'Not Assigned'\n",
    "data.loc[pd.notnull(data['vendor']),'lead'] = 'Vendor'\n",
    "data.loc[data['lead'] == 'Vendor','displayname'] = 'Vendor'"
   ]
  },
  {
   "cell_type": "code",
   "execution_count": null,
   "metadata": {},
   "outputs": [],
   "source": [
    "#Function add months to a date. i.e. 1/15/20 will become 3/15/20. Does not add 30 days, but adds 1 to the month. \n",
    "# the native pandas function does not do this well.\n",
    "\n",
    "def add_months(input_date,months_to_add):\n",
    "    iyear = input_date.year\n",
    "    imonth = input_date.month + int(months_to_add)\n",
    "    if imonth>12:\n",
    "        iyear=iyear + int(imonth//12)\n",
    "        if imonth%12==0:\n",
    "            imonth=1\n",
    "        else:\n",
    "            imonth=imonth%12\n",
    "    iday = input_date.day\n",
    "    \n",
    "    if imonth==2 and iday>28:\n",
    "        new_date = dt(year=iyear, month=imonth, day=28).date()\n",
    "    elif imonth in [9, 4, 6, 11] and iday==31: \n",
    "        new_date = dt(year=iyear, month=imonth, day=30).date()\n",
    "    else:\n",
    "        new_date = dt(year=iyear, month=imonth, day=iday).date()\n",
    "    new_date = dt(new_date.year, new_date.month, new_date.day)\n",
    "    return new_date"
   ]
  },
  {
   "cell_type": "code",
   "execution_count": null,
   "metadata": {},
   "outputs": [],
   "source": [
    "# Function to forecast the WOs that will be generated from PMs for the next year\n",
    "\n",
    "# test variables for testing the function\n",
    "# testdate = dt.strptime('2020-04-02','%Y-%m-%d')\n",
    "# new_date= testdate\n",
    "# test_frequency = 1\n",
    "# test_frequnit = 'DAYS'\n",
    "# test_frequnit = 'WEEKS'\n",
    "# test_frequnit = 'YEARS'\n",
    "# test_frequnit = 'MONTHS'\n",
    "# test_tech = 'SMACHA01'\n",
    "\n",
    "def fill_data (pm,tech,frequency,frequnit,last_start_date):\n",
    "    todays_date = dt.today()\n",
    "    instance_number = 0\n",
    "    new_date = last_start_date\n",
    "    \n",
    "    if pd.isnull(new_date):\n",
    "        pass\n",
    "    while new_date < (todays_date + timedelta(days=365)):\n",
    "        instance_number += frequency\n",
    "        if instance_number > 365:\n",
    "            break\n",
    "            \n",
    "        if frequnit == 'DAYS':\n",
    "            if frequency==30:\n",
    "                new_date = new_date + timedelta (days=frequency)\n",
    "            else:\n",
    "                break\n",
    "            if new_date > (todays_date+timedelta (days=365)):\n",
    "                break\n",
    "            \n",
    "        elif frequnit == 'WEEKS':\n",
    "            new_date = new_date + timedelta (days=7*frequency)\n",
    "            if new_date > (todays_date+timedelta (days=365)):\n",
    "                break\n",
    "        elif frequnit == 'MONTHS':\n",
    "            new_date = add_months(last_start_date,instance_number) \n",
    "            if new_date > (todays_date+timedelta (days=365)):\n",
    "                break\n",
    "        elif frequnit == 'YEARS':\n",
    "            new_date = add_months(last_start_date,(instance_number*12)) \n",
    "            if new_date > (todays_date+timedelta (days=365)):\n",
    "                break      \n",
    "#         print (pm, instance_number, new_date)\n",
    "        \n",
    "        pm_month = new_date.strftime(\"%b\")\n",
    "        pms_per_month.loc[tech,pm_month] += 1\n",
    "    \n",
    "# fill_data(test_tech, test_frequency, test_frequnit, testdate)"
   ]
  },
  {
   "cell_type": "code",
   "execution_count": null,
   "metadata": {},
   "outputs": [],
   "source": [
    "#create a new dataframe of the monthly totals, index are techs, cols are months\n",
    "techs = data['lead'].unique().tolist()\n",
    "techs.sort()\n",
    "cols = ['name','Jan', 'Feb', 'Mar','Apr','May','Jun','Jul','Aug','Sep','Oct','Nov','Dec']\n",
    "pms_per_month = pd.DataFrame(columns = cols, index = techs)\n",
    "pms_per_month.fillna(0, inplace=True)\n",
    "# display(pms_per_month)\n",
    "\n",
    "#add the full name of the tech to the pms_per_tech dataframe\n",
    "for tech in techs:\n",
    "    full_name = data[data['lead']==tech]['displayname'].unique()\n",
    "    pms_per_month.loc[tech,'name'] = full_name\n"
   ]
  },
  {
   "cell_type": "code",
   "execution_count": null,
   "metadata": {},
   "outputs": [],
   "source": [
    "data [data['laststartdate'].notnull()].apply(lambda x: fill_data(x.pmnum, x.lead, x.frequency, x.frequnit, x.laststartdate), axis=1)\n",
    "x=1\n",
    "\n",
    "# add a total column\n",
    "pms_per_month['Total']=pms_per_month.iloc[:,1:].sum(axis=1).astype('int')"
   ]
  },
  {
   "cell_type": "code",
   "execution_count": null,
   "metadata": {},
   "outputs": [],
   "source": [
    "pms_per_month"
   ]
  },
  {
   "cell_type": "code",
   "execution_count": null,
   "metadata": {},
   "outputs": [],
   "source": [
    "def get_answers(question,choices):\n",
    "  choice = \"\"\n",
    "  while choice.lower() not in choices:\n",
    "        \n",
    "        choice = input(question + \" Choose [%s]:\" % \", \".join(choices))\n",
    "        choice = choice.lower()\n",
    "  return choice\n",
    "\n",
    "file_name = dt.today().strftime('%Y.%m.%d')+  \" PMs per Tech per Month Report.xlsx\"\n",
    "print (file_name)\n",
    "export_file=get_answers(\"Export file?\",['y', 'n'])\n",
    "if export_file == \"y\":\n",
    "    pms_per_month.to_excel(file_name)\n"
   ]
  },
  {
   "cell_type": "code",
   "execution_count": null,
   "metadata": {},
   "outputs": [],
   "source": [
    "technician = input (\"Tech UTLN?\")\n",
    "# one_techs_pms = data[data['lead']=='MDMECH01']\n",
    "one_techs_pms = data[data['lead']==technician]\n",
    "\n",
    "file_name = dt.today().strftime('%Y.%m.%d')+  \" unassigned PMs.xlsx\"\n",
    "print (file_name)\n",
    "export_file=get_answers(\"Export file?\",['y', 'n'])\n",
    "if export_file == \"y\":\n",
    "    one_techs_pms.iloc[:,0:10].to_excel(file_name, index=False)"
   ]
  },
  {
   "cell_type": "code",
   "execution_count": null,
   "metadata": {
    "scrolled": true
   },
   "outputs": [],
   "source": [
    "print (one_techs_pms.iloc[:,0:10].to_string(index=False))"
   ]
  },
  {
   "cell_type": "code",
   "execution_count": null,
   "metadata": {},
   "outputs": [],
   "source": []
  }
 ],
 "metadata": {
  "kernelspec": {
   "display_name": "Python 3",
   "language": "python",
   "name": "python3"
  },
  "language_info": {
   "codemirror_mode": {
    "name": "ipython",
    "version": 3
   },
   "file_extension": ".py",
   "mimetype": "text/x-python",
   "name": "python",
   "nbconvert_exporter": "python",
   "pygments_lexer": "ipython3",
   "version": "3.7.4"
  }
 },
 "nbformat": 4,
 "nbformat_minor": 4
}
